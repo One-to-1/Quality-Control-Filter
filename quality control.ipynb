{
 "cells": [
  {
   "cell_type": "code",
   "execution_count": 1,
   "id": "e42d22d7",
   "metadata": {},
   "outputs": [],
   "source": [
    "import cv2\n",
    "import numpy as np\n",
    "from sklearn import svm\n",
    "from sklearn.model_selection import train_test_split\n",
    "import joblib"
   ]
  },
  {
   "cell_type": "code",
   "execution_count": 2,
   "id": "1399e292",
   "metadata": {},
   "outputs": [],
   "source": [
    "# Load and pre-process image data\n",
    "def load_data():\n",
    "    # Load images and labels\n",
    "    images = []\n",
    "    labels = []\n",
    "    for i in range(1, 25):\n",
    "        image = cv2.imread(\"obj_img/obj(\" + str(i) + \").jpg\")\n",
    "        images.append(image)\n",
    "        labels.append(1)\n",
    "    for i in range(1, 11):\n",
    "        image = cv2.imread(\"obj_def_img/def_obj(\" + str(i) + \").jpg\")\n",
    "        images.append(image)\n",
    "        labels.append(0)\n",
    "    return images, labels\n"
   ]
  },
  {
   "cell_type": "code",
   "execution_count": 3,
   "id": "b05ac004",
   "metadata": {},
   "outputs": [],
   "source": [
    "# Extract features from image using OpenCV\n",
    "def extract_features(images):\n",
    "    features = []\n",
    "    for image in images:\n",
    "        gray = cv2.cvtColor(image, cv2.COLOR_BGR2GRAY)\n",
    "        features.append(gray.ravel())\n",
    "    return features"
   ]
  },
  {
   "cell_type": "code",
   "execution_count": 4,
   "id": "e97d6be8",
   "metadata": {},
   "outputs": [],
   "source": [
    "# Train and test SVM model\n",
    "def train_test_model(features, labels):\n",
    "    X_train, X_test, y_train, y_test = train_test_split(features, labels, test_size=0.2, random_state=42)\n",
    "    clf = svm.SVC(kernel='linear', C=1)\n",
    "    clf.fit(X_train, y_train)\n",
    "    accuracy = clf.score(X_test, y_test)\n",
    "    print(\"Accuracy: \", accuracy)"
   ]
  },
  {
   "cell_type": "code",
   "execution_count": 5,
   "id": "3b232194",
   "metadata": {},
   "outputs": [],
   "source": [
    "# Predict if input image is defective or not\n",
    "def predict(image, clf):\n",
    "    gray = cv2.cvtColor(image, cv2.COLOR_BGR2GRAY)\n",
    "    feature = gray.ravel()\n",
    "    prediction = clf.predict([feature])\n",
    "    if prediction[0] == 1:\n",
    "        print(\"The object is good.\")\n",
    "    else:\n",
    "        print(\"The object is defective.\")"
   ]
  },
  {
   "cell_type": "code",
   "execution_count": 6,
   "id": "3e95f968",
   "metadata": {},
   "outputs": [],
   "source": [
    "# Main function\n",
    "def train():\n",
    "    images, labels = load_data()\n",
    "    features = extract_features(images)\n",
    "    X_train, X_test, y_train, y_test = train_test_split(features, labels, test_size=0.2, random_state=0)\n",
    "    clf = svm.SVC(kernel='linear', C=1)\n",
    "    clf.fit(X_train, y_train)\n",
    "    accuracy = clf.score(X_test, y_test)\n",
    "    print(\"Accuracy: \", accuracy)\n",
    "    return clf\n",
    "    "
   ]
  },
  {
   "cell_type": "code",
   "execution_count": 7,
   "id": "927ed743",
   "metadata": {},
   "outputs": [
    {
     "name": "stdout",
     "output_type": "stream",
     "text": [
      "Accuracy:  1.0\n",
      "The object is defective.\n"
     ]
    }
   ],
   "source": [
    "\n",
    "clf = train()\n",
    "# Take input image - Ask for input image path\n",
    "img_path = input(\"Enter the path of the image: \")\n",
    "input_image = cv2.imread(img_path)\n",
    "predict(input_image, clf)\n",
    "cv2.namedWindow(\"Input Image\", cv2.WINDOW_NORMAL)\n",
    "cv2.resizeWindow(\"Input Image\", 360, 640)\n",
    "cv2.imshow(\"Input Image\", input_image)\n",
    "cv2.waitKey(0)\n",
    "cv2.destroyAllWindows()"
   ]
  }
 ],
 "metadata": {
  "kernelspec": {
   "display_name": "base",
   "language": "python",
   "name": "python3"
  },
  "language_info": {
   "codemirror_mode": {
    "name": "ipython",
    "version": 3
   },
   "file_extension": ".py",
   "mimetype": "text/x-python",
   "name": "python",
   "nbconvert_exporter": "python",
   "pygments_lexer": "ipython3",
   "version": "3.9.13"
  },
  "vscode": {
   "interpreter": {
    "hash": "ad2bdc8ecc057115af97d19610ffacc2b4e99fae6737bb82f5d7fb13d2f2c186"
   }
  }
 },
 "nbformat": 4,
 "nbformat_minor": 5
}
