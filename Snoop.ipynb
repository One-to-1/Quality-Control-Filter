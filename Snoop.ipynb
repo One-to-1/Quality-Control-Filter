{
 "cells": [
  {
   "cell_type": "code",
   "execution_count": 1,
   "id": "e42d22d7",
   "metadata": {},
   "outputs": [],
   "source": [
    "import cv2\n",
    "import numpy as np\n",
    "from sklearn import svm\n",
    "from sklearn.model_selection import train_test_split\n",
    "import joblib"
   ]
  },
  {
   "cell_type": "code",
   "execution_count": 2,
   "id": "1399e292",
   "metadata": {},
   "outputs": [],
   "source": [
    "# Load and pre-process image data\n",
    "def load_data():\n",
    "    # Load images and labels\n",
    "    images = []\n",
    "    labels = []\n",
    "    for i in range(1, 25):\n",
    "        image = cv2.imread(\"obj_img/obj(\" + str(i) + \").jpg\")\n",
    "        images.append(image)\n",
    "        labels.append(1)\n",
    "    for i in range(1, 11):\n",
    "        image = cv2.imread(\"obj_def_img/def_obj(\" + str(i) + \").jpg\")\n",
    "        images.append(image)\n",
    "        labels.append(0)\n",
    "    return images, labels\n"
   ]
  },
  {
   "cell_type": "code",
   "execution_count": 3,
   "id": "b05ac004",
   "metadata": {},
   "outputs": [],
   "source": [
    "# Extract features from image using OpenCV\n",
    "def extract_features(images):\n",
    "    features = []\n",
    "    for image in images:\n",
    "        gray = cv2.cvtColor(image, cv2.COLOR_BGR2GRAY)\n",
    "        features.append(gray.ravel())\n",
    "    return features"
   ]
  },
  {
   "cell_type": "code",
   "execution_count": 4,
   "id": "693f05bf",
   "metadata": {},
   "outputs": [],
   "source": [
    "def show_image(image):\n",
    "    cv2.namedWindow(\"Input Image\", cv2.WINDOW_NORMAL)\n",
    "    cv2.resizeWindow(\"Input Image\", 360, 640)\n",
    "    cv2.imshow(\"Input Image\", image)\n",
    "    cv2.waitKey(0)\n",
    "    cv2.destroyAllWindows()"
   ]
  },
  {
   "cell_type": "code",
   "execution_count": 5,
   "id": "3b232194",
   "metadata": {},
   "outputs": [],
   "source": [
    "# Predict if input image is defective or not\n",
    "def predict(clf):\n",
    "    img_path = input(\"Enter the path of the image: \")\n",
    "    image = cv2.imread(img_path)\n",
    "    gray = cv2.cvtColor(image, cv2.COLOR_BGR2GRAY)\n",
    "    feature = gray.ravel()\n",
    "    prediction = clf.predict([feature])\n",
    "    if prediction[0] == 1:\n",
    "        print(\"The object is good.\")\n",
    "    else:\n",
    "        print(\"The object is defective.\")\n",
    "    show_image(image)"
   ]
  },
  {
   "cell_type": "code",
   "execution_count": 6,
   "id": "3e95f968",
   "metadata": {},
   "outputs": [],
   "source": [
    "# Train and Save the model\n",
    "def train():\n",
    "    train = 'y'\n",
    "    while train == 'y':\n",
    "        images, labels = load_data()\n",
    "        features = extract_features(images)\n",
    "        X_train, X_test, y_train, y_test = train_test_split(features, labels, test_size=0.2, random_state=0)\n",
    "        clf = svm.SVC(kernel='linear', C=1)\n",
    "        clf.fit(X_train, y_train)\n",
    "        accuracy = clf.score(X_test, y_test)\n",
    "        print(\"Accuracy: \", accuracy)\n",
    "        save = input(\"Do you want to save the model? [y/n]: \")\n",
    "        if save == 'y':\n",
    "            print(\"Waring: This may overwrite an existing model!! Make Sure to enter a unique name.\")\n",
    "            name = input(\"Enter the name of the model: \")\n",
    "            joblib.dump(clf, \"saved_models/\" + name + \".pkl\")\n",
    "            print(\"Model saved successfully as \" + name + \".pkl\")\n",
    "            return clf\n",
    "        if save == 'n':\n",
    "            train = input(\"Would you like to train the model again? [y/n]: \")\n",
    "            if train == 'n':\n",
    "                return clf"
   ]
  },
  {
   "cell_type": "code",
   "execution_count": 7,
   "id": "a3dcbaf3",
   "metadata": {},
   "outputs": [],
   "source": [
    "def menu_opt():\n",
    "    print(\"1. Train a new model\\n2. Use an existing model\\n0. Exit\\n\")\n",
    "    opt = int(input(\"Enter your option: \"))\n",
    "    return opt"
   ]
  },
  {
   "cell_type": "code",
   "execution_count": 8,
   "id": "927ed743",
   "metadata": {},
   "outputs": [
    {
     "name": "stdout",
     "output_type": "stream",
     "text": [
      "Hello!\n",
      "Welcome to Snoop, Your friendly neighbourhood Quality controll System!!\n",
      "What Would you Like to Do today?\n",
      "\n",
      "1. Train a new model\n",
      "2. Use an existing model\n",
      "0. Exit\n",
      "\n",
      "Training model...\n",
      "\n",
      "Accuracy:  1.0\n",
      "The object is defective.\n",
      "Training complete.\n",
      "\n",
      "1. Train a new model\n",
      "2. Use an existing model\n",
      "0. Exit\n",
      "\n"
     ]
    }
   ],
   "source": [
    "print(\"Hello!\\nWelcome to Snoop, Your friendly neighbourhood Quality controll System!!\\nWhat Would you Like to Do today?\\n\")\n",
    "sel = menu_opt()\n",
    "while sel != 0:\n",
    "    if sel == 1:\n",
    "        print(\"Training model...\\n\")\n",
    "        clf = train()\n",
    "        predict(clf)\n",
    "        print(\"Training complete.\\n\")\n",
    "        sel = menu_opt()\n",
    "    if sel == 2:\n",
    "        name = input(\"Enter the name of the model: \")\n",
    "        clf = joblib.load(\"saved_models/\" + name + \".pkl\")\n",
    "        predict(clf)\n",
    "        sel = menu_opt()"
   ]
  }
 ],
 "metadata": {
  "kernelspec": {
   "display_name": "base",
   "language": "python",
   "name": "python3"
  },
  "language_info": {
   "codemirror_mode": {
    "name": "ipython",
    "version": 3
   },
   "file_extension": ".py",
   "mimetype": "text/x-python",
   "name": "python",
   "nbconvert_exporter": "python",
   "pygments_lexer": "ipython3",
   "version": "3.9.13"
  },
  "vscode": {
   "interpreter": {
    "hash": "ad2bdc8ecc057115af97d19610ffacc2b4e99fae6737bb82f5d7fb13d2f2c186"
   }
  }
 },
 "nbformat": 4,
 "nbformat_minor": 5
}
