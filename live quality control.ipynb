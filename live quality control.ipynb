{
 "cells": [
  {
   "cell_type": "code",
   "execution_count": null,
   "id": "e42d22d7",
   "metadata": {},
   "outputs": [],
   "source": [
    "import cv2\n",
    "import numpy as np\n",
    "from sklearn import svm\n",
    "from sklearn.model_selection import train_test_split\n",
    "from sklearn.preprocessing import StandardScaler"
   ]
  },
  {
   "cell_type": "code",
   "execution_count": null,
   "id": "587029c2",
   "metadata": {},
   "outputs": [],
   "source": [
    "# Load and pre-process image data\n",
    "def load_data():\n",
    "    # Load images and labels\n",
    "    images = []\n",
    "    labels = []\n",
    "    for i in range(1, 25):\n",
    "        image = cv2.imread(\"obj_img/obj(\" + str(i) + \").jpg\")\n",
    "        images.append(image)\n",
    "        labels.append(1)\n",
    "    for i in range(1, 11):\n",
    "        image = cv2.imread(\"obj_def_img/def_obj(\" + str(i) + \").jpg\")\n",
    "        images.append(image)\n",
    "        labels.append(0)\n",
    "    return images, labels"
   ]
  },
  {
   "cell_type": "code",
   "execution_count": null,
   "id": "7a1f8359",
   "metadata": {},
   "outputs": [],
   "source": [
    "# Extract features from image using OpenCV\n",
    "def extract_features(images):\n",
    "    features = []\n",
    "    for image in images:\n",
    "        gray = cv2.cvtColor(image, cv2.COLOR_BGR2GRAY)\n",
    "        features.append(gray.ravel())\n",
    "    return features\n",
    "# Train and test SVM model"
   ]
  },
  {
   "cell_type": "code",
   "execution_count": null,
   "id": "98b157da",
   "metadata": {},
   "outputs": [],
   "source": [
    "def train_test_model(features, labels):\n",
    "    X_train, X_test, y_train, y_test = train_test_split(features, labels, test_size=0.2, random_state=42)\n",
    "    \n",
    "    #scaling the data\n",
    "    sc=StandardScalar()\n",
    "    sc.fit(x_train)\n",
    "    x_train_sc=sc.transform(X_train)\n",
    "    x_test_sc=sc.transform(X_test)\n",
    "    y_train_sc=sc.transform(y_train)\n",
    "    y_test_sc=sc.transform(y_test)\n",
    "    \n",
    "    clf = svm.SVC(kernel='linear', C=1)\n",
    "    clf.fit(X_train, y_train)\n",
    "    accuracy = clf.score(X_test, y_test)\n",
    "    print(\"Accuracy: \", accuracy)"
   ]
  },
  {
   "cell_type": "code",
   "execution_count": null,
   "id": "dfe3c7bc",
   "metadata": {},
   "outputs": [],
   "source": [
    "# Predict if input image is defective or not\n",
    "def predict(image, clf):\n",
    "    gray = cv2.cvtColor(image, cv2.COLOR_BGR2GRAY)\n",
    "    feature = gray.ravel()\n",
    "    prediction = clf.predict([feature])\n",
    "    if prediction[0] == 1:\n",
    "        print(\"The object is good.\")\n",
    "    else:\n",
    "        print(\"The object is defective.\")"
   ]
  },
  {
   "cell_type": "code",
   "execution_count": null,
   "id": "a4622e49",
   "metadata": {},
   "outputs": [],
   "source": [
    "#using the camera for live prediction\n",
    "def live_predict_defect(clf):\n",
    "    cap = cv2.VideoCapture(0)\n",
    "\n",
    "    while(True):\n",
    "        ret, frame = cap.read()\n",
    "        gray = cv2.cvtColor(frame, cv2.COLOR_BGR2GRAY)\n",
    "        #frame = cv2.resize(frame, None, fx = scale_factor, fy = scale_factor, interpolation = cv2.INTER_AREA)\n",
    "        #gray = cv2.cvtColor(frame, cv2.COLOR_BGR2GRAY)\n",
    "        feature = gray.ravel()\n",
    "        prediction = clf.predict([feature])\n",
    "        if prediction[0] == 1:\n",
    "            cv2.putText(frame, \"GOOD\", (20,30), cv2.FONT_HERSHEY_SIMPLEX, 0.7, (0, 255, 0), 2)\n",
    "        else:\n",
    "            cv2.putText(frame, \"DEFECTIVE\", (20,30), cv2.FONT_HERSHEY_SIMPLEX, 0.7, (0, 0, 255), 2)\n",
    "        cv2.imshow(\"Live Quality Control\", frame)\n",
    "\n",
    "        if cv2.waitKey(0) & 0xFF == ord('q'):\n",
    "            break\n",
    "\n",
    "    cap.release()\n",
    "    cv2.destroyAllWindows()\n",
    "\n"
   ]
  },
  {
   "cell_type": "code",
   "execution_count": null,
   "id": "eb16c23f",
   "metadata": {},
   "outputs": [],
   "source": [
    "# Main function\n",
    "if __name__ == '__main__':\n",
    "    images, labels = load_data()\n",
    "    features = extract_features(images)\n",
    "    X_train, X_test, y_train, y_test = train_test_split(features, labels, test_size=0.2, random_state=42)\n",
    "    clf = svm.SVC(kernel='linear', C=1)\n",
    "    clf.fit(X_train, y_train)\n",
    "    accuracy = clf.score(X_test, y_test)\n",
    "    print(\"Accuracy: \", accuracy)\n",
    "    # assuming the classifier is already trained and stored in the 'clf' variable\n",
    "    live_predict_defect(clf)\n",
    "\n",
    "    \n",
    "    # Take input image - Ask for input image path\n",
    "#    img_path = input(\"Enter the path of the image: \")\n",
    "#    input_image = cv2.imread(img_path)\n",
    "#    predict(input_image, clf)\n",
    "#    cv2.namedWindow(\"Input Image\", cv2.WINDOW_NORMAL)\n",
    "#    cv2.resizeWindow(\"Input Image\", 360, 640)\n",
    "#    cv2.imshow(\"Input Image\", input_image)\n",
    "#    cv2.waitKey(0)\n",
    "#    cv2.destroyAllWindows()"
   ]
  }
 ],
 "metadata": {
  "kernelspec": {
   "display_name": "Python 3",
   "language": "python",
   "name": "python3"
  },
  "language_info": {
   "codemirror_mode": {
    "name": "ipython",
    "version": 3
   },
   "file_extension": ".py",
   "mimetype": "text/x-python",
   "name": "python",
   "nbconvert_exporter": "python",
   "pygments_lexer": "ipython3",
   "version": "3.9.13 (tags/v3.9.13:6de2ca5, May 17 2022, 16:36:42) [MSC v.1929 64 bit (AMD64)]"
  },
  "vscode": {
   "interpreter": {
    "hash": "e4fc2ce67716b7907ac788f16cf8cc55bbcaf8e11294fde1f62ed583f0c1f038"
   }
  }
 },
 "nbformat": 4,
 "nbformat_minor": 5
}
